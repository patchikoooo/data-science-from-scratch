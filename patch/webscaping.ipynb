{
 "cells": [
  {
   "cell_type": "code",
   "execution_count": 5,
   "metadata": {},
   "outputs": [],
   "source": [
    "from bs4 import BeautifulSoup\n",
    "import requests\n",
    "\n",
    "html = requests.get(\"https://www.oreilly.com/\").text\n",
    "soup = BeautifulSoup(html, 'html5lib')"
   ]
  },
  {
   "cell_type": "code",
   "execution_count": 6,
   "metadata": {},
   "outputs": [
    {
     "name": "stdout",
     "output_type": "stream",
     "text": [
      "<p class=\"mobileHidden\">Build skills. <span class=\"nowrap\">Solve problems.</span></p>\n"
     ]
    }
   ],
   "source": [
    "# get first paragraph\n",
    "print(soup.p)"
   ]
  },
  {
   "cell_type": "code",
   "execution_count": 8,
   "metadata": {},
   "outputs": [
    {
     "name": "stdout",
     "output_type": "stream",
     "text": [
      "Build skills. Solve problems.\n",
      "['Build', 'skills.', 'Solve', 'problems.']\n"
     ]
    }
   ],
   "source": [
    "print(soup.p.text)   # print text of the first paragraph\n",
    "print(soup.p.text.split())   # print words in list of the first paragraph"
   ]
  },
  {
   "cell_type": "code",
   "execution_count": 14,
   "metadata": {},
   "outputs": [
    {
     "name": "stdout",
     "output_type": "stream",
     "text": [
      "['mobileHidden']\n",
      "['mobileHidden']\n"
     ]
    }
   ],
   "source": [
    "# extract a tag's attributes by treating it like a dict\n",
    "print(soup.p['class'])    # raises KeyError if attribute not found\n",
    "print(soup.p.get('class'))   # returns None if no id"
   ]
  },
  {
   "cell_type": "code",
   "execution_count": 18,
   "metadata": {},
   "outputs": [
    {
     "name": "stdout",
     "output_type": "stream",
     "text": [
      "[<p class=\"mobileHidden\">Build skills. <span class=\"nowrap\">Solve problems.</span></p>, <p>New expert playlists: Collections of handpicked content from <span class=\"nowrap\">industry leaders</span></p>, <p>OâReilly online learning gives your team the knowledge they need to stay ahead with on-demand access to the latest OâReilly books, videos, and live training. Build skills with learning paths, live online courses, and collections of content selected by expertsâor solve a problem quickly through books and videos. Follow your organizationâs progress and go in-depth with reporting and insights tools. OâReilly members: Explore all our <a class=\"nowrap\" href=\"https://learning.oreilly.com/playlists/discover/\">expert playlists here.</a></p>, <p>Give your team the knowledge they need to stay ahead with on-demand access to the latest OâReilly books, videos, and live training courses through OâReilly online learning.</p>, <p>Build skills with learning paths and live training courses or solve a problem quickly through books and videos. Follow your organizationâs progress and go in depth with reporting and insights tools. <a class=\"textCTA-small features-seeAll\" href=\"https://www.oreilly.com/online-learning/features.html\">See all features</a></p>, <p class=\"conferences-detail-tagline\">Cover the full scope of <span class=\"nowrap\">software architecture.</span></p>, <p class=\"conferences-detail-location\">New York, NY</p>, <p class=\"conferences-detail-dates\">February 23â26, 2020</p>, <p class=\"conferences-detail-presenter\">Maggie Carroll, senior engineer, MAG Aerospace</p>, <p class=\"conferences-detail-tagline\">Build for tomorrowâwithout interrupting the <span class=\"nowrap\">day-to-day.</span></p>, <p class=\"conferences-detail-location\">Santa Clara, CA</p>, <p class=\"conferences-detail-dates\">June 15â18, 2020</p>, <p class=\"conferences-detail-presenter\">Sam Newman, Technologist</p>, <p>OâReilly learning provides individuals, teams, and businesses with expert-created and curated information covering all the areas that will shape our futureâincluding artificial intelligence, operations, data, UX design, finance, leadership, and more.</p>, <p>Take O’Reilly online learning with you and learn anywhere, anytime on your phone or tablet. Download the app <span class=\"nowrap\">today and:</span></p>, <p>© 2019, O’Reilly Media, Inc.  All trademarks and registered trademarks appearing on oreilly.com are the property of their respective owners.</p>, <p><a href=\"/terms/\">Terms of Service</a> â¢ <a href=\"/privacy.html\">Privacy Policy</a> â¢ <a href=\"/about/editorial_independence.html\">Editorial Independence</a></p>]\n",
      "\n",
      "\n",
      "\n",
      "[<p class=\"mobileHidden\">Build skills. <span class=\"nowrap\">Solve problems.</span></p>, <p class=\"conferences-detail-tagline\">Cover the full scope of <span class=\"nowrap\">software architecture.</span></p>, <p class=\"conferences-detail-location\">New York, NY</p>, <p class=\"conferences-detail-dates\">February 23â26, 2020</p>, <p class=\"conferences-detail-presenter\">Maggie Carroll, senior engineer, MAG Aerospace</p>, <p class=\"conferences-detail-tagline\">Build for tomorrowâwithout interrupting the <span class=\"nowrap\">day-to-day.</span></p>, <p class=\"conferences-detail-location\">Santa Clara, CA</p>, <p class=\"conferences-detail-dates\">June 15â18, 2020</p>, <p class=\"conferences-detail-presenter\">Sam Newman, Technologist</p>]\n"
     ]
    }
   ],
   "source": [
    "# get multiple tags at once\n",
    "print(soup('p'))   # or soup.findall('p')\n",
    "print(\"\\n\\n\")\n",
    "\n",
    "# getting tags with existing attributes|\n",
    "paragraphs_with_ids = [p for p in soup('p') if p.get('class')]\n",
    "print(paragraphs_with_ids)"
   ]
  },
  {
   "cell_type": "code",
   "execution_count": 27,
   "metadata": {},
   "outputs": [
    {
     "name": "stdout",
     "output_type": "stream",
     "text": [
      "[<p class=\"conferences-detail-presenter\">Maggie Carroll, senior engineer, MAG Aerospace</p>, <p class=\"conferences-detail-presenter\">Sam Newman, Technologist</p>]\n",
      "[<p class=\"conferences-detail-presenter\">Maggie Carroll, senior engineer, MAG Aerospace</p>, <p class=\"conferences-detail-presenter\">Sam Newman, Technologist</p>]\n"
     ]
    }
   ],
   "source": [
    "# find tags with a specific class\n",
    "print(soup('p', {'class': 'conferences-detail-presenter'}))\n",
    "print(soup('p', 'conferences-detail-presenter'))"
   ]
  },
  {
   "cell_type": "code",
   "execution_count": 26,
   "metadata": {},
   "outputs": [
    {
     "data": {
      "text/plain": [
       "[['mobileHidden'],\n",
       " ['conferences-detail-tagline'],\n",
       " ['conferences-detail-location'],\n",
       " ['conferences-detail-dates'],\n",
       " ['conferences-detail-presenter'],\n",
       " ['conferences-detail-tagline'],\n",
       " ['conferences-detail-location'],\n",
       " ['conferences-detail-dates'],\n",
       " ['conferences-detail-presenter']]"
      ]
     },
     "execution_count": 26,
     "metadata": {},
     "output_type": "execute_result"
    }
   ],
   "source": [
    "[p.get('class') for p in paragraphs_with_ids]"
   ]
  },
  {
   "cell_type": "code",
   "execution_count": 30,
   "metadata": {},
   "outputs": [
    {
     "data": {
      "text/plain": [
       "'\\nWhenever you want to scrape data from a website you should first check to see\\nif it has some sort of access policy looking at terms and conditions\\n\\nWe should also check for robots.txt file that tells webcrawlers how to behave\\n'"
      ]
     },
     "execution_count": 30,
     "metadata": {},
     "output_type": "execute_result"
    }
   ],
   "source": [
    "\"\"\"\n",
    "Whenever you want to scrape data from a website you should first check to see\n",
    "if it has some sort of access policy looking at terms and conditions\n",
    "\n",
    "We should also check for robots.txt file that tells webcrawlers how to behave\n",
    "\"\"\"\n",
    "\n",
    "# try http://shop.oreilly.com/robots.txt\n",
    "#    Crawl-delay: 30\n",
    "#    Request-rate: 1/30\n",
    "\n",
    "# The first tells us that we should wait 30 seconds between requests.\n",
    "# The second says that we should request only one page every 30 seconds\n",
    "#    So basically they're two different ways of saying the same thing"
   ]
  },
  {
   "cell_type": "code",
   "execution_count": null,
   "metadata": {},
   "outputs": [],
   "source": []
  }
 ],
 "metadata": {
  "kernelspec": {
   "display_name": "Python 3",
   "language": "python",
   "name": "python3"
  },
  "language_info": {
   "codemirror_mode": {
    "name": "ipython",
    "version": 3
   },
   "file_extension": ".py",
   "mimetype": "text/x-python",
   "name": "python",
   "nbconvert_exporter": "python",
   "pygments_lexer": "ipython3",
   "version": "3.7.4"
  }
 },
 "nbformat": 4,
 "nbformat_minor": 2
}
