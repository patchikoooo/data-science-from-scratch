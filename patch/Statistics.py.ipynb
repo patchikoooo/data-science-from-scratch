{
 "cells": [
  {
   "cell_type": "code",
   "execution_count": 7,
   "metadata": {},
   "outputs": [],
   "source": [
    "from matplotlib import pyplot as plt\n",
    "from collections import Counter\n",
    "import random"
   ]
  },
  {
   "cell_type": "code",
   "execution_count": 28,
   "metadata": {},
   "outputs": [],
   "source": [
    "num_friends = [random.randrange(0, 101) for i in range(0, 1000)]\n",
    "#num_friends = [100, 49, 41, 40, 25]\n",
    "friend_counts = Counter(num_friends)\n",
    "xs = range(101)\n",
    "ys = [friend_counts[x] for x in xs]"
   ]
  },
  {
   "cell_type": "code",
   "execution_count": 30,
   "metadata": {},
   "outputs": [
    {
     "data": {
      "image/png": "[encoded data removed]",
      "text/plain": [
       "<Figure size 432x288 with 1 Axes>"
      ]
     },
     "metadata": {
      "needs_background": "light"
     },
     "output_type": "display_data"
    }
   ],
   "source": [
    "plt.bar(xs, ys)\n",
    "plt.axis([0, 101, 0, 18])\n",
    "plt.title(\"Histogram of Friend Counts\")\n",
    "plt.xlabel('# of friends')\n",
    "plt.ylabel('# of people')\n",
    "plt.show()"
   ]
  },
  {
   "cell_type": "code",
   "execution_count": 32,
   "metadata": {},
   "outputs": [],
   "source": [
    "num_points = len(num_friends)\n",
    "largest_value = max(num_friends)\n",
    "smallest_value = min(num_friends)\n",
    "sorted_values = sorted(num_friends)"
   ]
  },
  {
   "cell_type": "code",
   "execution_count": 1,
   "metadata": {},
   "outputs": [],
   "source": [
    "# A large POSITVE covariance means \n",
    "#    - that x tends to be large when y  is small.\n",
    "# A large NEGATIVE covariance means the opposite\n",
    "#    - that x tends to be small when y is large and vice versa\n",
    "# A covariance close to zero means that no such relationship exists\n",
    "\n",
    "# dot product of the mean from each point of the line divided by n-1\n",
    "\n"
   ]
  },
  {
   "cell_type": "code",
   "execution_count": 2,
   "metadata": {},
   "outputs": [
    {
     "data": {
      "text/plain": [
       "'\\nThe correlation is unitless and always lies between\\n    -1 (perfect anti-correlation)\\n    and 1(perfect correlation)\\n    \\nA nunmber like 0.25 represents a relative weak positive correlation.\\n'"
      ]
     },
     "execution_count": 2,
     "metadata": {},
     "output_type": "execute_result"
    }
   ],
   "source": [
    "# Correlation\n",
    "def correlation(x, y):\n",
    "    stdev_x = standard_deviation(x)\n",
    "    stdev_y = standard_devation(y)\n",
    "    if stdev_x > 0 and stdev_y > 0:\n",
    "        return covariance(x, y) / stdev_x / stdev_y\n",
    "    else:\n",
    "        return 0 # if no variation, correlation is 0\n",
    "    \n",
    "#correlation(num_friends, daily_minutes)\n",
    "\n",
    "'''\n",
    "The correlation is unitless and always lies between\n",
    "    -1 (perfect anti-correlation)\n",
    "    and 1(perfect correlation)\n",
    "    \n",
    "A nunmber like 0.25 represents a relative weak positive correlation.\n",
    "'''"
   ]
  },
  {
   "cell_type": "code",
   "execution_count": 3,
   "metadata": {},
   "outputs": [],
   "source": [
    "### Simpson's Paradox\n",
    "  # Correlations can be misleading when confounding variables are ignored"
   ]
  },
  {
   "cell_type": "code",
   "execution_count": 4,
   "metadata": {},
   "outputs": [],
   "source": [
    "# Some other Correlational Caveats\n",
    "x = [-2, -1, 0, 1, 2]\n",
    "y = [2, 1, 0, 1, 2]"
   ]
  },
  {
   "cell_type": "code",
   "execution_count": 5,
   "metadata": {},
   "outputs": [
    {
     "data": {
      "text/plain": [
       "'\\nFor Further Exploration\\nSciPy, pandas, and StatsModels all come with a wide variety of statistical functions.\\nStatistics is important. (Or maybe statistics are important?) If you want to be a good\\ndata scientist it would be a good idea to read a statistics textbook. Many are freely\\navailable online. A couple that I like are:\\nOpenIntro Statistics\\nOpenStax Introductory Statistics\\n'"
      ]
     },
     "execution_count": 5,
     "metadata": {},
     "output_type": "execute_result"
    }
   ],
   "source": [
    "'''\n",
    "For Further Exploration\n",
    "SciPy, pandas, and StatsModels all come with a\n",
    "wide variety of statistical functions.\n",
    "\n",
    "Statistics is important. (Or maybe statistics are important?)\n",
    "If you want to be a good data scientist it would be a good idea\n",
    "to read a statistics textbook. Many are freely\n",
    "available online. A couple that I like are:\n",
    "\n",
    "OpenIntro Statistics\n",
    "OpenStax Introductory Statistics\n",
    "'''"
   ]
  },
  {
   "cell_type": "code",
   "execution_count": 6,
   "metadata": {},
   "outputs": [],
   "source": [
    "# Conditional Probability\n",
    "# P(E|F) = P(E, F) / P(F)\n",
    "# P(E, F) = P(E|F) * P(F)"
   ]
  },
  {
   "cell_type": "code",
   "execution_count": null,
   "metadata": {},
   "outputs": [],
   "source": []
  }
 ],
 "metadata": {
  "kernelspec": {
   "display_name": "Python 3",
   "language": "python",
   "name": "python3"
  },
  "language_info": {
   "codemirror_mode": {
    "name": "ipython",
    "version": 3
   },
   "file_extension": ".py",
   "mimetype": "text/x-python",
   "name": "python",
   "nbconvert_exporter": "python",
   "pygments_lexer": "ipython3",
   "version": "3.7.4"
  }
 },
 "nbformat": 4,
 "nbformat_minor": 2
}
