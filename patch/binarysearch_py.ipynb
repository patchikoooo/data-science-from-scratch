{
  "nbformat": 4,
  "nbformat_minor": 0,
  "metadata": {
    "colab": {
      "name": "binarysearch.py",
      "provenance": [],
      "include_colab_link": true
    },
    "kernelspec": {
      "name": "python3",
      "display_name": "Python 3"
    }
  },
  "cells": [
    {
      "cell_type": "markdown",
      "metadata": {
        "id": "view-in-github",
        "colab_type": "text"
      },
      "source": [
        "<a href=\"https://colab.research.google.com/github/patchikoooo/data-science-from-scratch/blob/master/patch/binarysearch_py.ipynb\" target=\"_parent\"><img src=\"https://colab.research.google.com/assets/colab-badge.svg\" alt=\"Open In Colab\"/></a>"
      ]
    },
    {
      "cell_type": "code",
      "metadata": {
        "id": "4WvrNaXplQak",
        "colab_type": "code",
        "colab": {}
      },
      "source": [
        "import random"
      ],
      "execution_count": 0,
      "outputs": []
    },
    {
      "cell_type": "code",
      "metadata": {
        "id": "h79Wc--mlGJH",
        "colab_type": "code",
        "colab": {}
      },
      "source": [
        "data = [random.randrange(0, 50) for i in range(50)]\n",
        "random.seed(10)\n",
        "data = list(set(data))\n",
        "random.shuffle(data)\n",
        "#sorted(data)\n",
        "#data"
      ],
      "execution_count": 0,
      "outputs": []
    },
    {
      "cell_type": "code",
      "metadata": {
        "id": "8klATP7Algph",
        "colab_type": "code",
        "colab": {
          "base_uri": "https://localhost:8080/",
          "height": 34
        },
        "outputId": "0c5c251d-0f40-4634-86bb-3337863c6a23"
      },
      "source": [
        "def linear_search(data, target):\n",
        "    for i in range(len(data)):\n",
        "        if data[i] == target:\n",
        "            return True\n",
        "    \n",
        "    return False\n",
        "\n",
        "linear_search(data, 19)"
      ],
      "execution_count": 14,
      "outputs": [
        {
          "output_type": "execute_result",
          "data": {
            "text/plain": [
              "True"
            ]
          },
          "metadata": {
            "tags": []
          },
          "execution_count": 14
        }
      ]
    },
    {
      "cell_type": "code",
      "metadata": {
        "id": "YoA_jRl7mF4_",
        "colab_type": "code",
        "colab": {
          "base_uri": "https://localhost:8080/",
          "height": 34
        },
        "outputId": "bc9798b1-b7ce-46e8-b436-64cf43bebfcd"
      },
      "source": [
        "# binary search - iterative version\n",
        "def binary_search_iterative(data, target):\n",
        "    data = sorted(data)\n",
        "\n",
        "    low = 0                  # index of the first element\n",
        "    high = len(data) - 1     # index of the last element\n",
        "    if target < data[low] or target > data[high]:\n",
        "        return False\n",
        "\n",
        "    while low <= high:\n",
        "        mid = (low + high) // 2\n",
        "        if target == data[mid]:\n",
        "            return True\n",
        "        elif target < data[mid]:\n",
        "            high = mid - 1\n",
        "        else:\n",
        "            low = mid + 1\n",
        "    \n",
        "    return False\n",
        "\n",
        "binary_search_iterative(data, 35)\n"
      ],
      "execution_count": 21,
      "outputs": [
        {
          "output_type": "execute_result",
          "data": {
            "text/plain": [
              "True"
            ]
          },
          "metadata": {
            "tags": []
          },
          "execution_count": 21
        }
      ]
    },
    {
      "cell_type": "code",
      "metadata": {
        "id": "7ntwrkJPnCMK",
        "colab_type": "code",
        "colab": {
          "base_uri": "https://localhost:8080/",
          "height": 34
        },
        "outputId": "91deb6d2-45b0-4fc3-e7b3-94f135307a1b"
      },
      "source": [
        "# binary search - recursion\n",
        "def binary_search_recursive(data, target, low, high):\n",
        "    data = sorted(data)\n",
        "\n",
        "    # check if low point is greater than the high point\n",
        "    #     if that's the case, we crossed path with the array \n",
        "    if target < data[low] or target > data[high]:\n",
        "        return False\n",
        "    elif low > high:\n",
        "        return False\n",
        "    else:\n",
        "        mid = (low + high) // 2\n",
        "        if target == data[mid]:\n",
        "            return True\n",
        "        elif target < data[mid]:\n",
        "            return binary_search_recursive(data, target, low, mid-1)\n",
        "        else:\n",
        "            return binary_search_recursive(data, target, mid+1, high)\n",
        "\n",
        "binary_search_recursive(data, 29, 0, len(data) - 1)\n"
      ],
      "execution_count": 29,
      "outputs": [
        {
          "output_type": "execute_result",
          "data": {
            "text/plain": [
              "True"
            ]
          },
          "metadata": {
            "tags": []
          },
          "execution_count": 29
        }
      ]
    },
    {
      "cell_type": "code",
      "metadata": {
        "id": "NJm2Xe3Vq5tE",
        "colab_type": "code",
        "colab": {
          "base_uri": "https://localhost:8080/",
          "height": 54
        },
        "outputId": "6c72920c-9bd5-4684-f47f-0ec4744f4b73"
      },
      "source": [
        "print(data)"
      ],
      "execution_count": 27,
      "outputs": [
        {
          "output_type": "stream",
          "text": [
            "[12, 29, 36, 8, 34, 15, 42, 23, 4, 37, 38, 31, 20, 5, 39, 19, 35, 28, 43, 9, 32, 14, 41, 26, 10, 0, 49, 27, 24, 2, 30]\n"
          ],
          "name": "stdout"
        }
      ]
    },
    {
      "cell_type": "code",
      "metadata": {
        "id": "1Je05zQsuf4y",
        "colab_type": "code",
        "colab": {}
      },
      "source": [
        ""
      ],
      "execution_count": 0,
      "outputs": []
    },
    {
      "cell_type": "code",
      "metadata": {
        "id": "3V4wU829ssqU",
        "colab_type": "code",
        "colab": {
          "base_uri": "https://localhost:8080/",
          "height": 544
        },
        "outputId": "c2e494ce-758d-4e47-913f-6547f2878e80"
      },
      "source": [
        "\n",
        "\n",
        "recursive = []\n",
        "for number in data:\n",
        "    in_data = binary_search_recursive(data, number-5, 0, len(data)-1)\n",
        "    print(number-5, in_data)\n",
        "    recursive.append(in_data)\n"
      ],
      "execution_count": 43,
      "outputs": [
        {
          "output_type": "stream",
          "text": [
            "7 False\n",
            "24 True\n",
            "31 True\n",
            "3 False\n",
            "29 True\n",
            "10 True\n",
            "37 True\n",
            "18 False\n",
            "-1 False\n",
            "32 True\n",
            "33 False\n",
            "26 True\n",
            "15 True\n",
            "0 True\n",
            "34 True\n",
            "14 True\n",
            "30 True\n",
            "23 True\n",
            "38 True\n",
            "4 True\n",
            "27 True\n",
            "9 True\n",
            "36 True\n",
            "21 False\n",
            "5 True\n",
            "-5 False\n",
            "44 False\n",
            "22 False\n",
            "19 True\n",
            "-3 False\n",
            "25 False\n"
          ],
          "name": "stdout"
        }
      ]
    },
    {
      "cell_type": "code",
      "metadata": {
        "id": "c7UZe1I7tJnI",
        "colab_type": "code",
        "colab": {
          "base_uri": "https://localhost:8080/",
          "height": 544
        },
        "outputId": "ea7248c0-4c15-4fe9-a79a-07ba8b753639"
      },
      "source": [
        "iterative = []\n",
        "for number in data:\n",
        "    in_data = binary_search_iterative(data, number-5)\n",
        "    print(number-5, in_data)\n",
        "    iterative.append(in_data)"
      ],
      "execution_count": 44,
      "outputs": [
        {
          "output_type": "stream",
          "text": [
            "7 False\n",
            "24 True\n",
            "31 True\n",
            "3 False\n",
            "29 True\n",
            "10 True\n",
            "37 True\n",
            "18 False\n",
            "-1 False\n",
            "32 True\n",
            "33 False\n",
            "26 True\n",
            "15 True\n",
            "0 True\n",
            "34 True\n",
            "14 True\n",
            "30 True\n",
            "23 True\n",
            "38 True\n",
            "4 True\n",
            "27 True\n",
            "9 True\n",
            "36 True\n",
            "21 False\n",
            "5 True\n",
            "-5 False\n",
            "44 False\n",
            "22 False\n",
            "19 True\n",
            "-3 False\n",
            "25 False\n"
          ],
          "name": "stdout"
        }
      ]
    },
    {
      "cell_type": "code",
      "metadata": {
        "id": "v0ElPS1_tbJj",
        "colab_type": "code",
        "colab": {
          "base_uri": "https://localhost:8080/",
          "height": 34
        },
        "outputId": "e7ea5961-f150-4c21-93c0-f2a571ea8dd0"
      },
      "source": [
        "recursive == iterative"
      ],
      "execution_count": 45,
      "outputs": [
        {
          "output_type": "execute_result",
          "data": {
            "text/plain": [
              "True"
            ]
          },
          "metadata": {
            "tags": []
          },
          "execution_count": 45
        }
      ]
    },
    {
      "cell_type": "code",
      "metadata": {
        "id": "DvV0C43ZumDU",
        "colab_type": "code",
        "colab": {}
      },
      "source": [
        ""
      ],
      "execution_count": 0,
      "outputs": []
    }
  ]
}