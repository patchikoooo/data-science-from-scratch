{
 "cells": [
  {
   "cell_type": "code",
   "execution_count": 3,
   "metadata": {},
   "outputs": [],
   "source": [
    "import pprint\n",
    "pp = pprint.PrettyPrinter(indent=4)\n",
    "\n",
    "users = [\n",
    "    { \"id\": 0, \"name\": \"Hero\" },\n",
    "    { \"id\": 1, \"name\": \"Dunn\" },\n",
    "    { \"id\": 2, \"name\": \"Sue\" },\n",
    "    { \"id\": 3, \"name\": \"Chi\" },\n",
    "    { \"id\": 4, \"name\": \"Thor\" },\n",
    "    { \"id\": 5, \"name\": \"Clive\" },\n",
    "    { \"id\": 6, \"name\": \"Hicks\" },\n",
    "    { \"id\": 7, \"name\": \"Devin\" },\n",
    "    { \"id\": 8, \"name\": \"Kate\" },\n",
    "    { \"id\": 9, \"name\": \"Klein\" }\n",
    "]\n",
    "\n",
    "friendships = [(0, 1), (0, 2), (1, 2), (1, 3), (2, 3), (3, 4),\n",
    "(4, 5), (5, 6), (5, 7), (6, 8), (7, 8), (8, 9)]\n",
    "\n",
    "for user in users:\n",
    "    user[\"friends\"] = []\n",
    "\n",
    "for i, j in friendships:\n",
    "    users[i]['friends'].append(users[j])\n",
    "    users[j]['friends'].append(users[i])\n",
    "    \n",
    "def number_of_friends(user):\n",
    "# How many friends does_user_have?\n",
    "    return len(user['friends'])"
   ]
  },
  {
   "cell_type": "code",
   "execution_count": 4,
   "metadata": {},
   "outputs": [],
   "source": [
    "total_connections = sum(number_of_friends(user) for user in users)\n",
    "avg_connections = total_connections / len(users)"
   ]
  },
  {
   "cell_type": "code",
   "execution_count": 5,
   "metadata": {},
   "outputs": [
    {
     "data": {
      "text/plain": [
       "2.4"
      ]
     },
     "execution_count": 5,
     "metadata": {},
     "output_type": "execute_result"
    }
   ],
   "source": [
    "avg_connections"
   ]
  },
  {
   "cell_type": "code",
   "execution_count": 6,
   "metadata": {},
   "outputs": [
    {
     "data": {
      "text/plain": [
       "24"
      ]
     },
     "execution_count": 6,
     "metadata": {},
     "output_type": "execute_result"
    }
   ],
   "source": [
    "total_connections"
   ]
  },
  {
   "cell_type": "code",
   "execution_count": 7,
   "metadata": {},
   "outputs": [
    {
     "name": "stdout",
     "output_type": "stream",
     "text": [
      "[(0, 2), (1, 3), (2, 3), (3, 3), (4, 2), (5, 3), (6, 2), (7, 2), (8, 3), (9, 1)]\n"
     ]
    }
   ],
   "source": [
    "num_friends_by_id = [(user['id'], number_of_friends(user)) for user in users]\n",
    "print(num_friends_by_id)"
   ]
  },
  {
   "cell_type": "code",
   "execution_count": 8,
   "metadata": {},
   "outputs": [],
   "source": [
    "def sortlist(inputtuple):\n",
    "    return inputtuple[1]\n",
    "    \n",
    "# sort the users by the number of friends\n",
    "# this is the network metric degree centrality\n",
    "x = sorted(num_friends_by_id, key=sortlist, reverse=True)"
   ]
  },
  {
   "cell_type": "code",
   "execution_count": 9,
   "metadata": {},
   "outputs": [
    {
     "data": {
      "text/plain": [
       "[1, 2, 3]"
      ]
     },
     "execution_count": 9,
     "metadata": {},
     "output_type": "execute_result"
    }
   ],
   "source": [
    "def friends_of_friends_ids_bad(user):\n",
    "    return [foaf[\"id\"] for friend in user['friends'] for foaf in friend['friends'] if foaf['id'] != user['id']]\n",
    "\n",
    "list(set(friends_of_friends_ids_bad(users[0])))"
   ]
  },
  {
   "cell_type": "code",
   "execution_count": 10,
   "metadata": {},
   "outputs": [
    {
     "ename": "SyntaxError",
     "evalue": "invalid syntax (<ipython-input-10-3f9fe44bb68d>, line 4)",
     "output_type": "error",
     "traceback": [
      "\u001b[1;36m  File \u001b[1;32m\"<ipython-input-10-3f9fe44bb68d>\"\u001b[1;36m, line \u001b[1;32m4\u001b[0m\n\u001b[1;33m    def not_the_same(user, other user):\u001b[0m\n\u001b[1;37m                                    ^\u001b[0m\n\u001b[1;31mSyntaxError\u001b[0m\u001b[1;31m:\u001b[0m invalid syntax\n"
     ]
    }
   ],
   "source": [
    "# Count the mutualk friends\n",
    "from collections import Counter\n",
    "\n",
    "def not_the_same(user, other user):\n",
    "    # two users are not the same if they have different ids\n",
    "    return user['id'] != other_user['id']\n",
    "\n",
    "def not_friends(user, other_user):\n",
    "    # other_user is not a friend if he's not in user['friends']\n",
    "    # that is, if he's not_thesame as all the people in the user['friends']\n",
    "    return all(not_the_same(friend, other_user))"
   ]
  },
  {
   "cell_type": "code",
   "execution_count": 15,
   "metadata": {},
   "outputs": [
    {
     "name": "stdout",
     "output_type": "stream",
     "text": [
      "{(1, 3): 1, (2, 3): 1, (3, 3): 1, (5, 3): 1, (8, 3): 1, (0, 2): 1, (4, 2): 1, (6, 2): 1, (7, 2): 1, (9, 1): 1}\n"
     ]
    }
   ],
   "source": [
    "from collections import Counter\n",
    "y = Counter(x)\n",
    "print(dict(y))"
   ]
  },
  {
   "cell_type": "code",
   "execution_count": 16,
   "metadata": {},
   "outputs": [],
   "source": [
    "z = [1, 2, 1, 1, 3, 1, 1]"
   ]
  },
  {
   "cell_type": "code",
   "execution_count": 19,
   "metadata": {},
   "outputs": [
    {
     "data": {
      "text/plain": [
       "[(1, 5), (2, 1), (3, 1)]"
      ]
     },
     "execution_count": 19,
     "metadata": {},
     "output_type": "execute_result"
    }
   ],
   "source": [
    "Counter(z).most_common()"
   ]
  },
  {
   "cell_type": "code",
   "execution_count": 20,
   "metadata": {},
   "outputs": [
    {
     "data": {
      "text/plain": [
       "Counter({1: 5, 2: 1, 3: 1})"
      ]
     },
     "execution_count": 20,
     "metadata": {},
     "output_type": "execute_result"
    }
   ],
   "source": [
    "Counter(z)"
   ]
  },
  {
   "cell_type": "code",
   "execution_count": 1,
   "metadata": {},
   "outputs": [],
   "source": [
    "s = 'Patch'\n",
    "x = ''"
   ]
  },
  {
   "cell_type": "code",
   "execution_count": 2,
   "metadata": {},
   "outputs": [
    {
     "data": {
      "text/plain": [
       "'P'"
      ]
     },
     "execution_count": 2,
     "metadata": {},
     "output_type": "execute_result"
    }
   ],
   "source": [
    "if s:\n",
    "    first_char = s[0]\n",
    "else:\n",
    "    first_char = \"\"\n",
    "    \n",
    "first_char"
   ]
  },
  {
   "cell_type": "code",
   "execution_count": 7,
   "metadata": {},
   "outputs": [
    {
     "data": {
      "text/plain": [
       "'P'"
      ]
     },
     "execution_count": 7,
     "metadata": {},
     "output_type": "execute_result"
    }
   ],
   "source": [
    "# this will check if x is true first and then return the second argument\n",
    "first_char = s and s[0]\n",
    "first_char"
   ]
  },
  {
   "cell_type": "code",
   "execution_count": 11,
   "metadata": {},
   "outputs": [
    {
     "data": {
      "text/plain": [
       "'Patch'"
      ]
     },
     "execution_count": 11,
     "metadata": {},
     "output_type": "execute_result"
    }
   ],
   "source": [
    "first_char = s or s[0]\n",
    "first_char"
   ]
  },
  {
   "cell_type": "code",
   "execution_count": 15,
   "metadata": {},
   "outputs": [
    {
     "name": "stdout",
     "output_type": "stream",
     "text": [
      "[0, 9]\n",
      "defaultdict(<class 'list'>,\n",
      "            {   0: [   'Hadoop',\n",
      "                       'Big Data',\n",
      "                       'HBase',\n",
      "                       'Java',\n",
      "                       'Spark',\n",
      "                       'Storm',\n",
      "                       'Cassandra'],\n",
      "                1: ['NoSQL', 'MongoDB', 'Cassandra', 'HBase', 'Postgres'],\n",
      "                2: [   'Python',\n",
      "                       'scikit-learn',\n",
      "                       'scipy',\n",
      "                       'numpy',\n",
      "                       'statsmodels',\n",
      "                       'pandas'],\n",
      "                3: ['R', 'Python', 'statistics', 'regression', 'probability'],\n",
      "                4: [   'machine learning',\n",
      "                       'regression',\n",
      "                       'decision trees',\n",
      "                       'libsvm'],\n",
      "                5: [   'Python',\n",
      "                       'R',\n",
      "                       'Java',\n",
      "                       'C++',\n",
      "                       'Haskell',\n",
      "                       'programming languages'],\n",
      "                6: ['statistics', 'probability', 'mathematics', 'theory'],\n",
      "                7: [   'machine learning',\n",
      "                       'scikit-learn',\n",
      "                       'Mahout',\n",
      "                       'neural networks'],\n",
      "                8: [   'neural networks',\n",
      "                       'deep learning',\n",
      "                       'Big Data',\n",
      "                       'artificial intelligence'],\n",
      "                9: ['Hadoop', 'Java', 'MapReduce', 'Big Data']})\n",
      "Counter({'big data': 3, 'java': 3, 'python': 3, 'hadoop': 2, 'hbase': 2, 'cassandra': 2, 'scikit-learn': 2, 'r': 2, 'statistics': 2, 'regression': 2, 'probability': 2, 'machine learning': 2, 'neural networks': 2, 'spark': 1, 'storm': 1, 'nosql': 1, 'mongodb': 1, 'postgres': 1, 'scipy': 1, 'numpy': 1, 'statsmodels': 1, 'pandas': 1, 'decision trees': 1, 'libsvm': 1, 'c++': 1, 'haskell': 1, 'programming languages': 1, 'mathematics': 1, 'theory': 1, 'mahout': 1, 'deep learning': 1, 'artificial intelligence': 1, 'mapreduce': 1})\n",
      "\n",
      "\n",
      "\n",
      "Sorted by the most common words\n",
      "[('big data', 3), ('java', 3), ('python', 3), ('hadoop', 2), ('hbase', 2), ('cassandra', 2), ('scikit-learn', 2), ('r', 2), ('statistics', 2), ('regression', 2), ('probability', 2), ('machine learning', 2), ('neural networks', 2), ('spark', 1), ('storm', 1), ('nosql', 1), ('mongodb', 1), ('postgres', 1), ('scipy', 1), ('numpy', 1), ('statsmodels', 1), ('pandas', 1), ('decision trees', 1), ('libsvm', 1), ('c++', 1), ('haskell', 1), ('programming languages', 1), ('mathematics', 1), ('theory', 1), ('mahout', 1), ('deep learning', 1), ('artificial intelligence', 1), ('mapreduce', 1)]\n"
     ]
    }
   ],
   "source": [
    "from collections import defaultdict, Counter\n",
    "import pprint\n",
    "\n",
    "pp = pprint.PrettyPrinter(indent=4)\n",
    "\n",
    "interests = [\n",
    "(0, \"Hadoop\"), (0, \"Big Data\"), (0, \"HBase\"), (0, \"Java\"),\n",
    "(0, \"Spark\"), (0, \"Storm\"), (0, \"Cassandra\"),\n",
    "(1, \"NoSQL\"), (1, \"MongoDB\"), (1, \"Cassandra\"), (1, \"HBase\"),\n",
    "(1, \"Postgres\"), (2, \"Python\"), (2, \"scikit-learn\"), (2, \"scipy\"),\n",
    "(2, \"numpy\"), (2, \"statsmodels\"), (2, \"pandas\"), (3, \"R\"), (3, \"Python\"),\n",
    "(3, \"statistics\"), (3, \"regression\"), (3, \"probability\"),\n",
    "(4, \"machine learning\"), (4, \"regression\"), (4, \"decision trees\"),\n",
    "(4, \"libsvm\"), (5, \"Python\"), (5, \"R\"), (5, \"Java\"), (5, \"C++\"),\n",
    "(5, \"Haskell\"), (5, \"programming languages\"), (6, \"statistics\"),\n",
    "(6, \"probability\"), (6, \"mathematics\"), (6, \"theory\"),\n",
    "(7, \"machine learning\"), (7, \"scikit-learn\"), (7, \"Mahout\"),\n",
    "(7, \"neural networks\"), (8, \"neural networks\"), (8, \"deep learning\"),\n",
    "(8, \"Big Data\"), (8, \"artificial intelligence\"), (9, \"Hadoop\"),\n",
    "(9, \"Java\"), (9, \"MapReduce\"), (9, \"Big Data\")\n",
    "]\n",
    "\n",
    "def data_scientists_who_like(target_interest):\n",
    "\treturn [user_id for user_id, user_interest in interests if user_interest == target_interest]\n",
    "\n",
    "print(data_scientists_who_like('Hadoop'))\n",
    "\n",
    "interests_by_user_id = defaultdict(list)\n",
    "\n",
    "\n",
    "\n",
    "for user_id, interest in interests:\n",
    "\tinterests_by_user_id[user_id].append(interest)\n",
    "\n",
    "pp.pprint(interests_by_user_id)\n",
    "\n",
    "# returning the hash version\n",
    "words_and_counts = Counter(interest.lower() for user, interest in interests)\n",
    "print(words_and_counts)\n",
    "print(\"\\n\\n\")\n",
    "\n",
    "# returning the tupled-list version\n",
    "print('Sorted by the most common words---->')\n",
    "print(words_and_counts.most_common())"
   ]
  },
  {
   "cell_type": "code",
   "execution_count": 20,
   "metadata": {},
   "outputs": [
    {
     "data": {
      "text/plain": [
       "[('theory', 1),\n",
       " ('storm', 1),\n",
       " ('statsmodels', 1),\n",
       " ('statistics', 2),\n",
       " ('spark', 1),\n",
       " ('scipy', 1),\n",
       " ('scikit-learn', 2),\n",
       " ('regression', 2),\n",
       " ('r', 2),\n",
       " ('python', 3),\n",
       " ('programming languages', 1),\n",
       " ('probability', 2),\n",
       " ('postgres', 1),\n",
       " ('pandas', 1),\n",
       " ('numpy', 1),\n",
       " ('nosql', 1),\n",
       " ('neural networks', 2),\n",
       " ('mongodb', 1),\n",
       " ('mathematics', 1),\n",
       " ('mapreduce', 1),\n",
       " ('mahout', 1),\n",
       " ('machine learning', 2),\n",
       " ('libsvm', 1),\n",
       " ('java', 3),\n",
       " ('hbase', 2),\n",
       " ('haskell', 1),\n",
       " ('hadoop', 2),\n",
       " ('deep learning', 1),\n",
       " ('decision trees', 1),\n",
       " ('cassandra', 2),\n",
       " ('c++', 1),\n",
       " ('big data', 3),\n",
       " ('artificial intelligence', 1)]"
      ]
     },
     "execution_count": 20,
     "metadata": {},
     "output_type": "execute_result"
    }
   ],
   "source": [
    "# returns the sorted data\n",
    "sorted(words_and_counts.most_common(), key=lambda entry: entry[0], reverse=True)"
   ]
  },
  {
   "cell_type": "code",
   "execution_count": 27,
   "metadata": {},
   "outputs": [
    {
     "data": {
      "text/plain": [
       "[('theory', 1),\n",
       " ('storm', 1),\n",
       " ('statsmodels', 1),\n",
       " ('statistics', 2),\n",
       " ('spark', 1),\n",
       " ('scipy', 1),\n",
       " ('scikit-learn', 2),\n",
       " ('regression', 2),\n",
       " ('r', 2),\n",
       " ('python', 3),\n",
       " ('programming languages', 1),\n",
       " ('probability', 2),\n",
       " ('postgres', 1),\n",
       " ('pandas', 1),\n",
       " ('numpy', 1),\n",
       " ('nosql', 1),\n",
       " ('neural networks', 2),\n",
       " ('mongodb', 1),\n",
       " ('mathematics', 1),\n",
       " ('mapreduce', 1),\n",
       " ('mahout', 1),\n",
       " ('machine learning', 2),\n",
       " ('libsvm', 1),\n",
       " ('java', 3),\n",
       " ('hbase', 2),\n",
       " ('haskell', 1),\n",
       " ('hadoop', 2),\n",
       " ('deep learning', 1),\n",
       " ('decision trees', 1),\n",
       " ('cassandra', 2),\n",
       " ('c++', 1),\n",
       " ('big data', 3),\n",
       " ('artificial intelligence', 1)]"
      ]
     },
     "execution_count": 27,
     "metadata": {},
     "output_type": "execute_result"
    }
   ],
   "source": [
    "#does not returns the sorted data.\n",
    "# Instead it's already sorting the variable that we went to sort\n",
    "x = words_and_counts.most_common()\n",
    "x.sort(key=lambda entry: entry[0], reverse=True)\n",
    "x"
   ]
  },
  {
   "cell_type": "code",
   "execution_count": 33,
   "metadata": {},
   "outputs": [
    {
     "data": {
      "text/plain": [
       "[0.0914161329900165,\n",
       " 0.620956631235321,\n",
       " 0.03653720623101364,\n",
       " 0.31173524730317337]"
      ]
     },
     "execution_count": 33,
     "metadata": {},
     "output_type": "execute_result"
    }
   ],
   "source": [
    "import random\n",
    "\n",
    "four_uniform_randoms = [random.random() for x in range(4)]\n",
    "four_uniform_randoms"
   ]
  },
  {
   "cell_type": "code",
   "execution_count": 34,
   "metadata": {},
   "outputs": [
    {
     "data": {
      "text/plain": [
       "'Ryan'"
      ]
     },
     "execution_count": 34,
     "metadata": {},
     "output_type": "execute_result"
    }
   ],
   "source": [
    "myfriends = ['Yui', 'Patch', 'Ryan']\n",
    "random.choice(myfriends)"
   ]
  },
  {
   "cell_type": "code",
   "execution_count": 41,
   "metadata": {},
   "outputs": [
    {
     "data": {
      "text/plain": [
       "'a'"
      ]
     },
     "execution_count": 41,
     "metadata": {},
     "output_type": "execute_result"
    }
   ],
   "source": [
    "import re\n",
    "re.search(\"a\", \"cat\")"
   ]
  },
  {
   "cell_type": "code",
   "execution_count": 43,
   "metadata": {},
   "outputs": [
    {
     "data": {
      "text/plain": [
       "['c', 'r', 's']"
      ]
     },
     "execution_count": 43,
     "metadata": {},
     "output_type": "execute_result"
    }
   ],
   "source": [
    "re.split(\"[ab]\", \"carbs\")"
   ]
  },
  {
   "cell_type": "code",
   "execution_count": 1,
   "metadata": {},
   "outputs": [],
   "source": [
    "import re\n",
    "\n",
    "re.sub('(.+)-(.+)-(.+)', '\\1\\2\\3\\.html', 'Z-1147-2017')"
   ]
  },
  {
   "cell_type": "code",
   "execution_count": null,
   "metadata": {},
   "outputs": [],
   "source": []
  }
 ],
 "metadata": {
  "kernelspec": {
   "display_name": "Python 3",
   "language": "python",
   "name": "python3"
  },
  "language_info": {
   "codemirror_mode": {
    "name": "ipython",
    "version": 3
   },
   "file_extension": ".py",
   "mimetype": "text/x-python",
   "name": "python",
   "nbconvert_exporter": "python",
   "pygments_lexer": "ipython3",
   "version": "3.7.4"
  }
 },
 "nbformat": 4,
 "nbformat_minor": 2
}
